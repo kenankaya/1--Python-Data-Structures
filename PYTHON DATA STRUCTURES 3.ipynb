{
 "cells": [
  {
   "cell_type": "markdown",
   "metadata": {},
   "source": [
    "# Dictionaries "
   ]
  },
  {
   "cell_type": "code",
   "execution_count": 1,
   "metadata": {},
   "outputs": [
    {
     "name": "stdout",
     "output_type": "stream",
     "text": [
      "{'money': 12, 'candy': 3, 'tissues': 75}\n"
     ]
    }
   ],
   "source": [
    "purse=dict()\n",
    "purse[\"money\"]=12\n",
    "purse[\"candy\"]=3\n",
    "purse[\"tissues\"]=75\n",
    "print(purse)"
   ]
  },
  {
   "cell_type": "code",
   "execution_count": 2,
   "metadata": {},
   "outputs": [
    {
     "name": "stdout",
     "output_type": "stream",
     "text": [
      "3\n"
     ]
    }
   ],
   "source": [
    "print(purse[\"candy\"])"
   ]
  },
  {
   "cell_type": "code",
   "execution_count": 3,
   "metadata": {},
   "outputs": [
    {
     "name": "stdout",
     "output_type": "stream",
     "text": [
      "5\n"
     ]
    }
   ],
   "source": [
    "purse[\"candy\"]=purse[\"candy\"]+2\n",
    "print(purse[\"candy\"])"
   ]
  },
  {
   "cell_type": "markdown",
   "metadata": {},
   "source": [
    "## Dictionary Litereals(Constants)"
   ]
  },
  {
   "cell_type": "code",
   "execution_count": 4,
   "metadata": {},
   "outputs": [
    {
     "name": "stdout",
     "output_type": "stream",
     "text": [
      "{'chuck': 1, 'fred': 23, 'jan': 100}\n"
     ]
    }
   ],
   "source": [
    "aaa={\"chuck\":1 , \"fred\":23 , \"jan\":100}\n",
    "\n",
    "print(aaa)"
   ]
  },
  {
   "cell_type": "code",
   "execution_count": 5,
   "metadata": {},
   "outputs": [
    {
     "name": "stdout",
     "output_type": "stream",
     "text": [
      "{}\n"
     ]
    }
   ],
   "source": [
    "bbb={}\n",
    "print(bbb)"
   ]
  },
  {
   "cell_type": "markdown",
   "metadata": {},
   "source": [
    "#### form a dictionary by counting  the variables in a list "
   ]
  },
  {
   "cell_type": "code",
   "execution_count": 6,
   "metadata": {},
   "outputs": [
    {
     "name": "stdout",
     "output_type": "stream",
     "text": [
      "{'csev': 2, 'cwen': 2, 'zqian': 3}\n"
     ]
    }
   ],
   "source": [
    "\n",
    "counts=dict()\n",
    "names=[\"csev\",\"cwen\",\"csev\",\"zqian\",\"cwen\",\"zqian\",\"zqian\"]\n",
    "for name in names:\n",
    "    if name not in counts:\n",
    "        counts[name]=1\n",
    "    else:\n",
    "        counts[name]=counts[name]+1\n",
    "print(counts)        \n"
   ]
  },
  {
   "cell_type": "markdown",
   "metadata": {},
   "source": [
    "#### Simplified Counting with get() method"
   ]
  },
  {
   "cell_type": "code",
   "execution_count": 7,
   "metadata": {},
   "outputs": [
    {
     "name": "stdout",
     "output_type": "stream",
     "text": [
      "{'csev': 2, 'cwen': 2, 'zqian': 3}\n"
     ]
    }
   ],
   "source": [
    "counts=dict()\n",
    "names=[\"csev\",\"cwen\",\"csev\",\"zqian\",\"cwen\",\"zqian\",\"zqian\"]\n",
    "for name in names:\n",
    "    counts[name]=counts.get(name,0)+1\n",
    "print(counts)"
   ]
  },
  {
   "cell_type": "markdown",
   "metadata": {},
   "source": [
    "## Counting Pattern"
   ]
  },
  {
   "cell_type": "markdown",
   "metadata": {},
   "source": [
    "**The general pattern to count the words in a  line of text is to split the line  into words, then loop  through the words  and use  a  dictionary to track the count of each word independently "
   ]
  },
  {
   "cell_type": "code",
   "execution_count": 8,
   "metadata": {
    "scrolled": true
   },
   "outputs": [
    {
     "name": "stdout",
     "output_type": "stream",
     "text": [
      "Enter a line of text: \n",
      "general pattern to count the words in a line of text is to split the line into words, then loop through the words and use a dictionary to track the count of each word independently\n",
      "Words: ['general', 'pattern', 'to', 'count', 'the', 'words', 'in', 'a', 'line', 'of', 'text', 'is', 'to', 'split', 'the', 'line', 'into', 'words,', 'then', 'loop', 'through', 'the', 'words', 'and', 'use', 'a', 'dictionary', 'to', 'track', 'the', 'count', 'of', 'each', 'word', 'independently']\n",
      "Counting.....\n",
      "Counts {'general': 1, 'pattern': 1, 'to': 3, 'count': 2, 'the': 4, 'words': 2, 'in': 1, 'a': 2, 'line': 2, 'of': 2, 'text': 1, 'is': 1, 'split': 1, 'into': 1, 'words,': 1, 'then': 1, 'loop': 1, 'through': 1, 'and': 1, 'use': 1, 'dictionary': 1, 'track': 1, 'each': 1, 'word': 1, 'independently': 1}\n"
     ]
    }
   ],
   "source": [
    "counts=dict()\n",
    "print(\"Enter a line of text: \")\n",
    "line=input(\"\")\n",
    "words=line.split()\n",
    "print(\"Words:\",words)\n",
    "print(\"Counting.....\")\n",
    "for word in words:\n",
    "    counts[word]=counts.get(word,0)+1\n",
    "print(\"Counts\",counts)    "
   ]
  },
  {
   "cell_type": "markdown",
   "metadata": {},
   "source": [
    "## Definite loops and Dictionaries"
   ]
  },
  {
   "cell_type": "code",
   "execution_count": 9,
   "metadata": {},
   "outputs": [
    {
     "data": {
      "text/plain": [
       "{'general': 1,\n",
       " 'pattern': 1,\n",
       " 'to': 3,\n",
       " 'count': 2,\n",
       " 'the': 4,\n",
       " 'words': 2,\n",
       " 'in': 1,\n",
       " 'a': 2,\n",
       " 'line': 2,\n",
       " 'of': 2,\n",
       " 'text': 1,\n",
       " 'is': 1,\n",
       " 'split': 1,\n",
       " 'into': 1,\n",
       " 'words,': 1,\n",
       " 'then': 1,\n",
       " 'loop': 1,\n",
       " 'through': 1,\n",
       " 'and': 1,\n",
       " 'use': 1,\n",
       " 'dictionary': 1,\n",
       " 'track': 1,\n",
       " 'each': 1,\n",
       " 'word': 1,\n",
       " 'independently': 1}"
      ]
     },
     "execution_count": 9,
     "metadata": {},
     "output_type": "execute_result"
    }
   ],
   "source": [
    "counts"
   ]
  },
  {
   "cell_type": "code",
   "execution_count": 11,
   "metadata": {},
   "outputs": [
    {
     "name": "stdout",
     "output_type": "stream",
     "text": [
      "general 1\n",
      "pattern 1\n",
      "to 3\n",
      "count 2\n",
      "the 4\n",
      "words 2\n",
      "in 1\n",
      "a 2\n",
      "line 2\n",
      "of 2\n",
      "text 1\n",
      "is 1\n",
      "split 1\n",
      "into 1\n",
      "words, 1\n",
      "then 1\n",
      "loop 1\n",
      "through 1\n",
      "and 1\n",
      "use 1\n",
      "dictionary 1\n",
      "track 1\n",
      "each 1\n",
      "word 1\n",
      "independently 1\n"
     ]
    }
   ],
   "source": [
    "\n",
    "for x in counts:\n",
    "    print(x,counts[x])# In dictionary data structures, iteration variable(\"x\") refers to the keys of dictionary."
   ]
  },
  {
   "cell_type": "markdown",
   "metadata": {},
   "source": [
    "## Retrieving lists of Keys and Values "
   ]
  },
  {
   "cell_type": "code",
   "execution_count": 12,
   "metadata": {},
   "outputs": [
    {
     "name": "stdout",
     "output_type": "stream",
     "text": [
      "['chuck', 'fred', 'jan']\n"
     ]
    }
   ],
   "source": [
    "aaa={\"chuck\":1 ,\"fred\":43 , \"jan\":100}\n",
    "print(list(aaa))# This gives only  the keys of dictionary"
   ]
  },
  {
   "cell_type": "code",
   "execution_count": 13,
   "metadata": {},
   "outputs": [
    {
     "name": "stdout",
     "output_type": "stream",
     "text": [
      "dict_keys(['chuck', 'fred', 'jan'])\n"
     ]
    }
   ],
   "source": [
    "print(aaa.keys())#list of the keys"
   ]
  },
  {
   "cell_type": "code",
   "execution_count": 14,
   "metadata": {},
   "outputs": [
    {
     "name": "stdout",
     "output_type": "stream",
     "text": [
      "dict_values([1, 43, 100])\n"
     ]
    }
   ],
   "source": [
    "print(aaa.values())# list of the values "
   ]
  },
  {
   "cell_type": "code",
   "execution_count": 15,
   "metadata": {},
   "outputs": [
    {
     "name": "stdout",
     "output_type": "stream",
     "text": [
      "dict_items([('chuck', 1), ('fred', 43), ('jan', 100)])\n"
     ]
    }
   ],
   "source": [
    "print(aaa.items())#the type of  result is list including 3 items \n",
    "                   # the type of items is the tuples of  keys-values pairs"
   ]
  },
  {
   "cell_type": "markdown",
   "metadata": {},
   "source": [
    "## Two Iteration Variables"
   ]
  },
  {
   "cell_type": "code",
   "execution_count": 17,
   "metadata": {},
   "outputs": [
    {
     "name": "stdout",
     "output_type": "stream",
     "text": [
      "chuck 1\n",
      "fred 43\n",
      "jan 100\n"
     ]
    }
   ],
   "source": [
    "for x,y in aaa.items():\n",
    "    print(x,y)    \n",
    "# \"x\" refers to keys\n",
    "# \"y\" refers to values"
   ]
  },
  {
   "cell_type": "markdown",
   "metadata": {},
   "source": [
    "### Find the most frequent words and its name  in a text"
   ]
  },
  {
   "cell_type": "code",
   "execution_count": 4,
   "metadata": {},
   "outputs": [
    {
     "name": "stdout",
     "output_type": "stream",
     "text": [
      "Enter file:words.txt\n",
      "to 16\n"
     ]
    }
   ],
   "source": [
    "name=input(\"Enter file:\")\n",
    "handle=open(name)\n",
    "counts=dict()\n",
    "for line in handle:\n",
    "    words=line.split()\n",
    "    for word in words:\n",
    "        counts[word]=counts.get(word,0)+1\n",
    "        \n",
    "bigcount=None\n",
    "bigword=None\n",
    "for word,count in counts.items():\n",
    "    if bigcount is None or count>bigcount:\n",
    "        bigword=word\n",
    "        bigcount=count\n",
    "print(bigword,bigcount)"
   ]
  },
  {
   "cell_type": "markdown",
   "metadata": {},
   "source": [
    "## EXERCISE 5"
   ]
  },
  {
   "cell_type": "markdown",
   "metadata": {},
   "source": [
    "**Write a program to read through the mbox-short.txt and figure out who has sent the greatest number of mail messages. The program looks for 'From ' lines and takes the second word of those lines as the person who sent the mail. The program creates a Python dictionary that maps the sender's mail address to a count of the number of times they appear in the file. After the dictionary is produced, the program reads through the dictionary using a maximum loop to find the most prolific committer."
   ]
  },
  {
   "cell_type": "code",
   "execution_count": 2,
   "metadata": {
    "scrolled": false
   },
   "outputs": [
    {
     "name": "stdout",
     "output_type": "stream",
     "text": [
      "Enter file:mbox-short.txt\n",
      "cwen@iupui.edu 5\n"
     ]
    }
   ],
   "source": [
    "name = input(\"Enter file:\")\n",
    "if len(name) < 1 : name = \"mbox-short.txt\"\n",
    "handle = open(name)\n",
    "\n",
    "lst=list()\n",
    "for line in handle:\n",
    "    line = line.strip()\n",
    "    if line.startswith(\"From \"):\n",
    "        words=line.split()\n",
    "        emailadress=words[1]\n",
    "        lst.append(emailadress)\n",
    "counts=dict()\n",
    "for email in lst:\n",
    "    counts[email]=counts.get(email,0)+1\n",
    "\n",
    "bigcount=None\n",
    "email_adrs=None\n",
    "for k,v in counts.items():\n",
    "    if bigcount is None or v>bigcount:\n",
    "        bigcount=v\n",
    "        email_adrs=k\n",
    "print(email_adrs,bigcount)\n",
    "        \n"
   ]
  },
  {
   "cell_type": "code",
   "execution_count": null,
   "metadata": {},
   "outputs": [],
   "source": []
  }
 ],
 "metadata": {
  "kernelspec": {
   "display_name": "Python 3",
   "language": "python",
   "name": "python3"
  },
  "language_info": {
   "codemirror_mode": {
    "name": "ipython",
    "version": 3
   },
   "file_extension": ".py",
   "mimetype": "text/x-python",
   "name": "python",
   "nbconvert_exporter": "python",
   "pygments_lexer": "ipython3",
   "version": "3.7.4"
  }
 },
 "nbformat": 4,
 "nbformat_minor": 2
}
