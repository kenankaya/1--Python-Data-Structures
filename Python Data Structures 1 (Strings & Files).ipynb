{
 "cells": [
  {
   "cell_type": "markdown",
   "metadata": {},
   "source": [
    "# 1-) STRINGS"
   ]
  },
  {
   "cell_type": "markdown",
   "metadata": {},
   "source": [
    "## 1.1) Looping through strings "
   ]
  },
  {
   "cell_type": "code",
   "execution_count": 1,
   "metadata": {},
   "outputs": [
    {
     "name": "stdout",
     "output_type": "stream",
     "text": [
      "0 b\n",
      "1 a\n",
      "2 n\n",
      "3 a\n",
      "4 n\n",
      "5 a\n"
     ]
    }
   ],
   "source": [
    "fruit=\"banana\"\n",
    "index=0\n",
    "while index<len(fruit):\n",
    "    letter=fruit[index]\n",
    "    print(index,letter)\n",
    "    index=index+1"
   ]
  },
  {
   "cell_type": "code",
   "execution_count": 2,
   "metadata": {},
   "outputs": [
    {
     "name": "stdout",
     "output_type": "stream",
     "text": [
      "w\n",
      "a\n",
      "t\n",
      "e\n",
      "r\n",
      "m\n",
      "e\n",
      "l\n",
      "o\n",
      "n\n"
     ]
    }
   ],
   "source": [
    "fruit=\"watermelon\"\n",
    "for letter in fruit:\n",
    "    print(letter)"
   ]
  },
  {
   "cell_type": "markdown",
   "metadata": {},
   "source": [
    "## 1.2-) Looping and Counting"
   ]
  },
  {
   "cell_type": "code",
   "execution_count": 5,
   "metadata": {},
   "outputs": [
    {
     "name": "stdout",
     "output_type": "stream",
     "text": [
      "3\n"
     ]
    }
   ],
   "source": [
    "word=\"banana\"\n",
    "count=0\n",
    "for letter in word:\n",
    "    if letter== \"a\":\n",
    "        count=count+1\n",
    "print(count)"
   ]
  },
  {
   "cell_type": "markdown",
   "metadata": {},
   "source": [
    "## 1.3-)Slicing strings"
   ]
  },
  {
   "cell_type": "code",
   "execution_count": 4,
   "metadata": {},
   "outputs": [
    {
     "name": "stdout",
     "output_type": "stream",
     "text": [
      "data\n",
      "tru\n",
      "ctures\n"
     ]
    }
   ],
   "source": [
    "x=\"data structures\"\n",
    "print(x[0:4])\n",
    "print(x[6:9])\n",
    "print(x[9:20])"
   ]
  },
  {
   "cell_type": "code",
   "execution_count": 5,
   "metadata": {},
   "outputs": [
    {
     "name": "stdout",
     "output_type": "stream",
     "text": [
      "da\n",
      "uctures\n",
      "data structures\n"
     ]
    }
   ],
   "source": [
    "print(x[:2])\n",
    "print(x[8:])\n",
    "print(x[:])"
   ]
  },
  {
   "cell_type": "markdown",
   "metadata": {},
   "source": [
    "## 1.4-) String Concatenation"
   ]
  },
  {
   "cell_type": "code",
   "execution_count": 6,
   "metadata": {},
   "outputs": [
    {
     "name": "stdout",
     "output_type": "stream",
     "text": [
      "HelloThere\n"
     ]
    }
   ],
   "source": [
    "a=\"Hello\"\n",
    "b=a+\"There\"\n",
    "print(b)"
   ]
  },
  {
   "cell_type": "code",
   "execution_count": 7,
   "metadata": {},
   "outputs": [
    {
     "name": "stdout",
     "output_type": "stream",
     "text": [
      "Hello There\n"
     ]
    }
   ],
   "source": [
    "a=\"Hello\"\n",
    "c=a+ \" \" +\"There\"\n",
    "print(c)"
   ]
  },
  {
   "cell_type": "markdown",
   "metadata": {},
   "source": [
    "## 1.5-)Using \"in\" as a logical Operator "
   ]
  },
  {
   "cell_type": "code",
   "execution_count": 8,
   "metadata": {},
   "outputs": [
    {
     "data": {
      "text/plain": [
       "True"
      ]
     },
     "execution_count": 8,
     "metadata": {},
     "output_type": "execute_result"
    }
   ],
   "source": [
    "fruit=\"banana\"\n",
    "\"n\" in fruit"
   ]
  },
  {
   "cell_type": "code",
   "execution_count": 9,
   "metadata": {},
   "outputs": [
    {
     "data": {
      "text/plain": [
       "False"
      ]
     },
     "execution_count": 9,
     "metadata": {},
     "output_type": "execute_result"
    }
   ],
   "source": [
    "\"m\" in fruit"
   ]
  },
  {
   "cell_type": "code",
   "execution_count": 10,
   "metadata": {},
   "outputs": [
    {
     "data": {
      "text/plain": [
       "True"
      ]
     },
     "execution_count": 10,
     "metadata": {},
     "output_type": "execute_result"
    }
   ],
   "source": [
    "\"nan\" in fruit"
   ]
  },
  {
   "cell_type": "code",
   "execution_count": 11,
   "metadata": {},
   "outputs": [
    {
     "data": {
      "text/plain": [
       "False"
      ]
     },
     "execution_count": 11,
     "metadata": {},
     "output_type": "execute_result"
    }
   ],
   "source": [
    "\"bnn\" in fruit"
   ]
  },
  {
   "cell_type": "code",
   "execution_count": 12,
   "metadata": {},
   "outputs": [
    {
     "name": "stdout",
     "output_type": "stream",
     "text": [
      "Found it!\n"
     ]
    }
   ],
   "source": [
    "if \"a\" in fruit:\n",
    "    print(\"Found it!\")"
   ]
  },
  {
   "cell_type": "markdown",
   "metadata": {},
   "source": [
    "## 1.6) String Library"
   ]
  },
  {
   "cell_type": "code",
   "execution_count": 13,
   "metadata": {},
   "outputs": [
    {
     "name": "stdout",
     "output_type": "stream",
     "text": [
      "HELLO WORLD\n",
      "hello world\n"
     ]
    }
   ],
   "source": [
    "greet=\"HELLO WORLD\"\n",
    "zap=greet.lower()\n",
    "print(greet)\n",
    "print(zap)"
   ]
  },
  {
   "cell_type": "code",
   "execution_count": 14,
   "metadata": {},
   "outputs": [
    {
     "name": "stdout",
     "output_type": "stream",
     "text": [
      "hello world\n"
     ]
    }
   ],
   "source": [
    "print(\"HELLO WORLD\".lower())"
   ]
  },
  {
   "cell_type": "code",
   "execution_count": 15,
   "metadata": {},
   "outputs": [
    {
     "data": {
      "text/plain": [
       "str"
      ]
     },
     "execution_count": 15,
     "metadata": {},
     "output_type": "execute_result"
    }
   ],
   "source": [
    "stuff=\"hi there\"\n",
    "type(stuff)"
   ]
  },
  {
   "cell_type": "markdown",
   "metadata": {},
   "source": [
    "## 1.6-)Searching  in a string"
   ]
  },
  {
   "cell_type": "code",
   "execution_count": 17,
   "metadata": {},
   "outputs": [
    {
     "name": "stdout",
     "output_type": "stream",
     "text": [
      "2\n"
     ]
    }
   ],
   "source": [
    "fruit=\"banana\"\n",
    "pos=fruit.find(\"na\")\n",
    "print(pos)\n",
    "#.find() method can  finds  the first occurence of the substring and gives its index.\n"
   ]
  },
  {
   "cell_type": "code",
   "execution_count": 18,
   "metadata": {},
   "outputs": [
    {
     "name": "stdout",
     "output_type": "stream",
     "text": [
      "-1\n"
     ]
    }
   ],
   "source": [
    "ccc=fruit.find(\"z\")\n",
    "print(ccc)\n",
    "# if the substring is not found, .find() returns -1."
   ]
  },
  {
   "cell_type": "markdown",
   "metadata": {},
   "source": [
    "## 1.7-) Search and Replace"
   ]
  },
  {
   "cell_type": "code",
   "execution_count": 19,
   "metadata": {},
   "outputs": [
    {
     "name": "stdout",
     "output_type": "stream",
     "text": [
      "Hello Jane\n"
     ]
    }
   ],
   "source": [
    "greet=\"Hello Bob\"\n",
    "y=greet.replace(\"Bob\",\"Jane\")\n",
    "print(y)"
   ]
  },
  {
   "cell_type": "code",
   "execution_count": 20,
   "metadata": {},
   "outputs": [
    {
     "name": "stdout",
     "output_type": "stream",
     "text": [
      "HellX BXb\n"
     ]
    }
   ],
   "source": [
    "y=greet.replace(\"o\",\"X\")\n",
    "print(y)"
   ]
  },
  {
   "cell_type": "markdown",
   "metadata": {},
   "source": [
    "## 1.8-)Stripping Whitespace"
   ]
  },
  {
   "cell_type": "code",
   "execution_count": 21,
   "metadata": {},
   "outputs": [
    {
     "data": {
      "text/plain": [
       "'Hello Bob    '"
      ]
     },
     "execution_count": 21,
     "metadata": {},
     "output_type": "execute_result"
    }
   ],
   "source": [
    "greet=\"     Hello Bob    \"\n",
    "greet.lstrip()\n",
    "#.lstrip() remove whitespace at the left "
   ]
  },
  {
   "cell_type": "code",
   "execution_count": 22,
   "metadata": {},
   "outputs": [
    {
     "data": {
      "text/plain": [
       "'     Hello Bob'"
      ]
     },
     "execution_count": 22,
     "metadata": {},
     "output_type": "execute_result"
    }
   ],
   "source": [
    "greet.rstrip()\n",
    "#.rstrip() remove whitespace at the right"
   ]
  },
  {
   "cell_type": "code",
   "execution_count": 23,
   "metadata": {},
   "outputs": [
    {
     "data": {
      "text/plain": [
       "'Hello Bob'"
      ]
     },
     "execution_count": 23,
     "metadata": {},
     "output_type": "execute_result"
    }
   ],
   "source": [
    "greet.strip()\n",
    "# strip() removes both beginning and ending whitespace"
   ]
  },
  {
   "cell_type": "markdown",
   "metadata": {},
   "source": [
    "## 1.9-)Parsing and Extracting"
   ]
  },
  {
   "cell_type": "code",
   "execution_count": 24,
   "metadata": {},
   "outputs": [
    {
     "name": "stdout",
     "output_type": "stream",
     "text": [
      "21\n"
     ]
    }
   ],
   "source": [
    "data=\"From stephen.marquard@uct.ac.za Sat Jan  5 09:14:16 2008\"\n",
    "at_position=data.find(\"@\")\n",
    "print(at_position)"
   ]
  },
  {
   "cell_type": "code",
   "execution_count": 25,
   "metadata": {},
   "outputs": [
    {
     "name": "stdout",
     "output_type": "stream",
     "text": [
      "31\n"
     ]
    }
   ],
   "source": [
    "space_position=data.find(\" \",at_position)#try to find index of  first space postion after index of at_postion \n",
    "print(space_position)"
   ]
  },
  {
   "cell_type": "code",
   "execution_count": 26,
   "metadata": {},
   "outputs": [
    {
     "name": "stdout",
     "output_type": "stream",
     "text": [
      "uct.ac.za\n"
     ]
    }
   ],
   "source": [
    "host=data[at_position+1:space_position]\n",
    "print(host)"
   ]
  },
  {
   "cell_type": "markdown",
   "metadata": {},
   "source": [
    "## EXERCISE 1"
   ]
  },
  {
   "cell_type": "markdown",
   "metadata": {},
   "source": [
    "* **Write code using find() and string slicing  to extract the number at the end of the line below. Convert the extracted value to a floating point number and print it out**"
   ]
  },
  {
   "cell_type": "code",
   "execution_count": 27,
   "metadata": {},
   "outputs": [
    {
     "name": "stdout",
     "output_type": "stream",
     "text": [
      "0.8475\n"
     ]
    }
   ],
   "source": [
    "text = \"X-DSPAM-Confidence:    0.8475\";\n",
    "y=text.find(\"0\")\n",
    "print(float(text[y:]))"
   ]
  },
  {
   "cell_type": "markdown",
   "metadata": {},
   "source": [
    "# 2.) Files"
   ]
  },
  {
   "cell_type": "markdown",
   "metadata": {},
   "source": [
    "## 2.1-)The newline Charachter"
   ]
  },
  {
   "cell_type": "code",
   "execution_count": 28,
   "metadata": {},
   "outputs": [
    {
     "data": {
      "text/plain": [
       "'Hello\\nWorld!'"
      ]
     },
     "execution_count": 28,
     "metadata": {},
     "output_type": "execute_result"
    }
   ],
   "source": [
    "stuff=\"Hello\\nWorld!\"\n",
    "stuff"
   ]
  },
  {
   "cell_type": "code",
   "execution_count": 29,
   "metadata": {},
   "outputs": [
    {
     "name": "stdout",
     "output_type": "stream",
     "text": [
      "Hello\n",
      "World!\n"
     ]
    }
   ],
   "source": [
    "print(stuff)"
   ]
  },
  {
   "cell_type": "code",
   "execution_count": 30,
   "metadata": {},
   "outputs": [
    {
     "name": "stdout",
     "output_type": "stream",
     "text": [
      "X\n",
      "Y\n"
     ]
    }
   ],
   "source": [
    "A=\"X\\nY\"\n",
    "print(A)\n",
    "#\"\\n\" can be used to  construct \" new line\""
   ]
  },
  {
   "cell_type": "code",
   "execution_count": 31,
   "metadata": {},
   "outputs": [
    {
     "data": {
      "text/plain": [
       "3"
      ]
     },
     "execution_count": 31,
     "metadata": {},
     "output_type": "execute_result"
    }
   ],
   "source": [
    "len(A)# \"\\n\" stands for  only 1 character "
   ]
  },
  {
   "cell_type": "markdown",
   "metadata": {},
   "source": [
    "## 2.2-)File Handle as a Sequence"
   ]
  },
  {
   "cell_type": "code",
   "execution_count": 32,
   "metadata": {},
   "outputs": [
    {
     "name": "stdout",
     "output_type": "stream",
     "text": [
      "_plotly_future_\n",
      "\n",
      "_plotly_utils\n",
      "\n",
      "plotly\n",
      "\n",
      "plotlywidget\n",
      "\n"
     ]
    }
   ],
   "source": [
    "xfile=open(\"top_level.txt\")\n",
    "for line in xfile:\n",
    "    print(line)"
   ]
  },
  {
   "cell_type": "markdown",
   "metadata": {},
   "source": [
    "## 2.3-)Counting lines in a file "
   ]
  },
  {
   "cell_type": "code",
   "execution_count": 33,
   "metadata": {},
   "outputs": [
    {
     "name": "stdout",
     "output_type": "stream",
     "text": [
      "Number of lines: 4\n"
     ]
    }
   ],
   "source": [
    "xfile=open(\"top_level.txt\")\n",
    "count=0\n",
    "for line in xfile:\n",
    "    count=count+1\n",
    "print(\"Number of lines:\",count)"
   ]
  },
  {
   "cell_type": "markdown",
   "metadata": {},
   "source": [
    "## 2.4-) Reading the whole strings in the file (in the whole lines)\n"
   ]
  },
  {
   "cell_type": "code",
   "execution_count": 34,
   "metadata": {},
   "outputs": [
    {
     "name": "stdout",
     "output_type": "stream",
     "text": [
      "_plotly_future_\n",
      "_plotly_utils\n",
      "plotly\n",
      "plotlywidget\n",
      "\n",
      "_plotly_future_\n",
      "_plo\n",
      "50\n"
     ]
    }
   ],
   "source": [
    "xfile=open(\"top_level.txt\")\n",
    "strings=xfile.read()\n",
    "print(strings)\n",
    "print(strings[:20])\n",
    "print(len(strings))\n"
   ]
  },
  {
   "cell_type": "markdown",
   "metadata": {},
   "source": [
    "## 2.5-) Searching Through a File"
   ]
  },
  {
   "cell_type": "code",
   "execution_count": 35,
   "metadata": {},
   "outputs": [
    {
     "name": "stdout",
     "output_type": "stream",
     "text": [
      "plotly\n",
      "\n",
      "plotlywidget\n",
      "\n"
     ]
    }
   ],
   "source": [
    "xfile=open(\"top_level.txt\")\n",
    "for line in xfile:\n",
    "    if  line.startswith(\"plotly\"):\n",
    "        print(line)\n",
    "    "
   ]
  },
  {
   "cell_type": "code",
   "execution_count": 36,
   "metadata": {},
   "outputs": [
    {
     "name": "stdout",
     "output_type": "stream",
     "text": [
      "_plotly_future_\n",
      "\n",
      "_plotly_utils\n",
      "\n"
     ]
    }
   ],
   "source": [
    "xfile=open(\"top_level.txt\")\n",
    "for line in xfile:\n",
    "    if not line.startswith(\"plotly\"):\n",
    "        print(line)"
   ]
  },
  {
   "cell_type": "markdown",
   "metadata": {},
   "source": [
    "## 2.6-) Searching Through a File(fixed)"
   ]
  },
  {
   "cell_type": "code",
   "execution_count": 37,
   "metadata": {},
   "outputs": [
    {
     "name": "stdout",
     "output_type": "stream",
     "text": [
      "_plotly_future_\n",
      "_plotly_utils\n"
     ]
    }
   ],
   "source": [
    "xfile=open(\"top_level.txt\")\n",
    "for line in xfile:\n",
    "    line=line.strip()\n",
    "    if line.startswith(\"_\"):\n",
    "        print(line)"
   ]
  },
  {
   "cell_type": "markdown",
   "metadata": {},
   "source": [
    "## 2.7-) Skipping with Continue "
   ]
  },
  {
   "cell_type": "code",
   "execution_count": 38,
   "metadata": {},
   "outputs": [
    {
     "name": "stdout",
     "output_type": "stream",
     "text": [
      "plotly\n",
      "plotlywidget\n"
     ]
    }
   ],
   "source": [
    "xfile=open(\"top_level.txt\")\n",
    "for line in xfile:\n",
    "    line=line.strip()\n",
    "    if  not line.startswith(\"p\"):\n",
    "        continue\n",
    "    print(line)"
   ]
  },
  {
   "cell_type": "markdown",
   "metadata": {},
   "source": [
    "## 2.8-) Prompt for File name"
   ]
  },
  {
   "cell_type": "code",
   "execution_count": 39,
   "metadata": {
    "scrolled": true
   },
   "outputs": [
    {
     "name": "stdout",
     "output_type": "stream",
     "text": [
      "Enter the file name:   top_level.txt\n",
      "there is 2  plotly lines in top_level.txt\n"
     ]
    }
   ],
   "source": [
    "file_name=input(\"Enter the file name:   \")\n",
    "file_handle=open(file_name)\n",
    "count=0\n",
    "for line in file_handle:\n",
    "    if line.startswith(\"plotly\"):\n",
    "        count=count+1\n",
    "print(\"there is\",count,\" plotly lines in\",file_name)"
   ]
  },
  {
   "cell_type": "markdown",
   "metadata": {},
   "source": [
    "##  2.9-)Prompt for Bad  File name"
   ]
  },
  {
   "cell_type": "code",
   "execution_count": 40,
   "metadata": {},
   "outputs": [
    {
     "name": "stdout",
     "output_type": "stream",
     "text": [
      "Enter the file name:   aaa\n",
      "File cannot be opened: aaa\n",
      "there is 0  plotly lines in aaa\n"
     ]
    }
   ],
   "source": [
    "file_name=input(\"Enter the file name:   \")\n",
    "try:\n",
    "    file_handle=open(file_name)\n",
    "except:\n",
    "    print(\"File cannot be opened:\", file_name)\n",
    "    #quit()# quit() says that I don't want to continue to the next line  \n",
    "\n",
    "count=0\n",
    "for line in file_handle:\n",
    "    if line.startswith(\"plotly\"):\n",
    "        count=count+1\n",
    "print(\"there is\",count,\" plotly lines in\",file_name)"
   ]
  },
  {
   "cell_type": "markdown",
   "metadata": {},
   "source": [
    "## EXERCISE 2"
   ]
  },
  {
   "cell_type": "markdown",
   "metadata": {},
   "source": [
    "**Write a program that** \n",
    "\n",
    "  * 1-)prompts for a file name, \n",
    "\n",
    "\n",
    "  * 2-)then opens that file and reads through the file, \n",
    "\n",
    "\n",
    "  * 3-)looking for lines of the form:X-DSPAM-Confidence:    0.8475\n",
    "\n",
    "\n",
    "  * 4-)Count these lines and extract the floating point values from each of the lines \n",
    "\n",
    "\n",
    "  * 5-)Then  compute the average of those values and produce an output  \n",
    "\n",
    "**Do not use the sum() function or a variable named sum in your solution.**"
   ]
  },
  {
   "cell_type": "code",
   "execution_count": 7,
   "metadata": {},
   "outputs": [
    {
     "name": "stdout",
     "output_type": "stream",
     "text": [
      "Enter file name: mbox-short.txt\n",
      "Average spam confidence: 0.7507185185185187\n"
     ]
    }
   ],
   "source": [
    "# Use the file name mbox-short.txt as the file name\n",
    "fname = input(\"Enter file name: \")\n",
    "fh = open(fname)\n",
    "count=0\n",
    "total=0\n",
    "avrg=0\n",
    "for line in fh:\n",
    "    if not line.startswith(\"X-DSPAM-Confidence:\") : \n",
    "        continue\n",
    "    count = count + 1\n",
    "    zero_p=line.find(\"0\")\n",
    "    num = float(line[zero_p:])\n",
    "    total = num + total\n",
    "avrg = total / count\n",
    "print( \"Average spam confidence:\", avrg)"
   ]
  },
  {
   "cell_type": "code",
   "execution_count": null,
   "metadata": {},
   "outputs": [],
   "source": []
  }
 ],
 "metadata": {
  "kernelspec": {
   "display_name": "Python 3",
   "language": "python",
   "name": "python3"
  },
  "language_info": {
   "codemirror_mode": {
    "name": "ipython",
    "version": 3
   },
   "file_extension": ".py",
   "mimetype": "text/x-python",
   "name": "python",
   "nbconvert_exporter": "python",
   "pygments_lexer": "ipython3",
   "version": "3.7.4"
  }
 },
 "nbformat": 4,
 "nbformat_minor": 2
}
